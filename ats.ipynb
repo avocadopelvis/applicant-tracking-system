{
  "nbformat": 4,
  "nbformat_minor": 0,
  "metadata": {
    "colab": {
      "name": "ats.ipynb",
      "provenance": [],
      "authorship_tag": "ABX9TyPjtTh43BFRFce+DXTuZ3qE",
      "include_colab_link": true
    },
    "kernelspec": {
      "name": "python3",
      "display_name": "Python 3"
    },
    "language_info": {
      "name": "python"
    }
  },
  "cells": [
    {
      "cell_type": "markdown",
      "metadata": {
        "id": "view-in-github",
        "colab_type": "text"
      },
      "source": [
        "<a href=\"https://colab.research.google.com/github/avocadopelvis/applicant-tracking-system/blob/main/ats.ipynb\" target=\"_parent\"><img src=\"https://colab.research.google.com/assets/colab-badge.svg\" alt=\"Open In Colab\"/></a>"
      ]
    },
    {
      "cell_type": "code",
      "source": [
        "pip install docx2txt"
      ],
      "metadata": {
        "id": "cH030LEzyqGc"
      },
      "execution_count": 97,
      "outputs": []
    },
    {
      "cell_type": "code",
      "execution_count": 98,
      "metadata": {
        "id": "Q5hUOsxnxzYw"
      },
      "outputs": [],
      "source": [
        "import docx2txt\n",
        "from sklearn.feature_extraction.text import CountVectorizer\n",
        "from sklearn.metrics.pairwise import cosine_similarity"
      ]
    },
    {
      "cell_type": "code",
      "source": [
        "# import os\n",
        "\n",
        "# for r in os.listdir(\"/content/resumes\"):\n",
        "#   if r.endswith(\".docx\"):\n",
        "#     resume = docx2txt.process(r)\n",
        "#     print(resume)"
      ],
      "metadata": {
        "id": "NWh57A7y9kRP"
      },
      "execution_count": 99,
      "outputs": []
    },
    {
      "cell_type": "code",
      "source": [
        "resume = docx2txt.process('deloitte.docx')\n",
        "print(resume)"
      ],
      "metadata": {
        "id": "jg-eN7QmybUF"
      },
      "execution_count": null,
      "outputs": []
    },
    {
      "cell_type": "code",
      "source": [
        "job_description = docx2txt.process('job-description4.docx')\n",
        "print(job_description)"
      ],
      "metadata": {
        "id": "rpAtMsVg17wS"
      },
      "execution_count": null,
      "outputs": []
    },
    {
      "cell_type": "code",
      "source": [
        "text = [resume, job_description]"
      ],
      "metadata": {
        "id": "g-4Dm_hF5DGb"
      },
      "execution_count": 102,
      "outputs": []
    },
    {
      "cell_type": "code",
      "source": [
        "cv = CountVectorizer()\n",
        "count_matrix = cv.fit_transform(text)"
      ],
      "metadata": {
        "id": "0aW6EOV56o7b"
      },
      "execution_count": 103,
      "outputs": []
    },
    {
      "cell_type": "code",
      "source": [
        "print(\"Similarity Score:\")\n",
        "print(cosine_similarity(count_matrix))"
      ],
      "metadata": {
        "colab": {
          "base_uri": "https://localhost:8080/"
        },
        "id": "6kqw_aES6wYc",
        "outputId": "a47337c2-ed63-4038-9639-c2ba17a9cb3b"
      },
      "execution_count": 104,
      "outputs": [
        {
          "output_type": "stream",
          "name": "stdout",
          "text": [
            "Similarity Score:\n",
            "[[1.         0.29481326]\n",
            " [0.29481326 1.        ]]\n"
          ]
        }
      ]
    },
    {
      "cell_type": "code",
      "source": [
        "match_percentage = cosine_similarity(count_matrix)[0][1]*100\n",
        "match_percentage = round(match_percentage, 2)"
      ],
      "metadata": {
        "id": "xlZSdIKw62TT"
      },
      "execution_count": 105,
      "outputs": []
    },
    {
      "cell_type": "code",
      "source": [
        "print('The resume matches about ' + str(match_percentage) + '% of the job description')"
      ],
      "metadata": {
        "colab": {
          "base_uri": "https://localhost:8080/"
        },
        "id": "7Q7XG4kX67wk",
        "outputId": "3e85a77a-2c35-456f-9cbf-df95575fd705"
      },
      "execution_count": 106,
      "outputs": [
        {
          "output_type": "stream",
          "name": "stdout",
          "text": [
            "The resume mathes about 29.48% of the job description\n"
          ]
        }
      ]
    }
  ]
}